{
  "nbformat": 4,
  "nbformat_minor": 0,
  "metadata": {
    "colab": {
      "name": "Iris.ipynb",
      "provenance": [],
      "authorship_tag": "ABX9TyO4QiTMQyGqRB65tjnFWb8J",
      "include_colab_link": true
    },
    "kernelspec": {
      "name": "python3",
      "display_name": "Python 3"
    },
    "language_info": {
      "name": "python"
    }
  },
  "cells": [
    {
      "cell_type": "markdown",
      "metadata": {
        "id": "view-in-github",
        "colab_type": "text"
      },
      "source": [
        "<a href=\"https://colab.research.google.com/github/mohammadmurtuza/IRIS/blob/main/Iris.ipynb\" target=\"_parent\"><img src=\"https://colab.research.google.com/assets/colab-badge.svg\" alt=\"Open In Colab\"/></a>"
      ]
    },
    {
      "cell_type": "code",
      "metadata": {
        "id": "Q7V8OO9GVg8Y"
      },
      "source": [
        "import numpy as np\n",
        "class Perceptron(object):\n",
        "    def __init__(self, learning_rate=0.01, n_iter=100, random_state=1):\n",
        "        self.learning_rate = learning_rate\n",
        "        self.n_iter = n_iter\n",
        "        self.random_state = random_state\n",
        "    def fit(self, X, y):\n",
        "        rand = np.random.RandomState(self.random_state)\n",
        "        self.weights = rand.normal(loc=0.0, scale=0.01, size=1 +  X.shape[1])\n",
        "        self.errors_ = []\n",
        "        for _ in range(self.n_iter):\n",
        "            errors = 0\n",
        "            for x, target in zip(X, y):\n",
        "                update = self.learning_rate * (target - self.predict(x))\n",
        "                self.weights[1:] += update * x\n",
        "                self.weights[0] += update\n",
        "                errors += int(update != 0.0)\n",
        "                self.errors_.append(errors)\n",
        "            return self\n",
        "    def net_input(self, X):\n",
        "        z = np.dot(X, self.weights[1:]) + self.weights[0]\n",
        "        return z\n",
        "    def predict(self, X):\n",
        "        return np.where(self.net_input(X) > 0, 1, 0)"
      ],
      "execution_count": 3,
      "outputs": []
    },
    {
      "cell_type": "code",
      "metadata": {
        "id": "I4XF07JQVkP3"
      },
      "source": [
        "import pandas as pd\n",
        "data = pd.read_csv(\"iris.data\")\n",
        "data = data[:100]"
      ],
      "execution_count": 10,
      "outputs": []
    },
    {
      "cell_type": "code",
      "metadata": {
        "id": "9jnJC4ZuVxah"
      },
      "source": [
        "from sklearn.preprocessing import LabelEncoder\n",
        "le = LabelEncoder()\n",
        "data['class'] = le.fit_transform(data['class'])\n",
        "X = data.iloc[:,:-1].values\n",
        "y = data.iloc[:,-1].values"
      ],
      "execution_count": 11,
      "outputs": []
    },
    {
      "cell_type": "code",
      "metadata": {
        "id": "LGods4yFV1NN"
      },
      "source": [
        "from sklearn.model_selection import train_test_split\n",
        "X_train, X_test, y_train, y_test = train_test_split(X, y, test_size=0.2)"
      ],
      "execution_count": 12,
      "outputs": []
    },
    {
      "cell_type": "code",
      "metadata": {
        "id": "DQaDjFlGV5L4"
      },
      "source": [
        "per = Perceptron(learning_rate=0.1, n_iter=100, random_state=1)\n",
        "per.fit(X_train, y_train)\n",
        "output = per.predict(X_test)"
      ],
      "execution_count": 13,
      "outputs": []
    },
    {
      "cell_type": "code",
      "metadata": {
        "colab": {
          "base_uri": "https://localhost:8080/"
        },
        "id": "hvoH5TyRV7eO",
        "outputId": "e0add54c-07de-4cc1-d03f-fabecfdef42e"
      },
      "source": [
        "\n",
        "output"
      ],
      "execution_count": 14,
      "outputs": [
        {
          "output_type": "execute_result",
          "data": {
            "text/plain": [
              "array([1, 0, 0, 1, 0, 0, 1, 0, 0, 0, 0, 0, 0, 0, 1, 1, 1, 1, 1, 0])"
            ]
          },
          "metadata": {},
          "execution_count": 14
        }
      ]
    },
    {
      "cell_type": "code",
      "metadata": {
        "colab": {
          "base_uri": "https://localhost:8080/"
        },
        "id": "GZUOsQypV8Rs",
        "outputId": "78b0ad79-5ec2-4ab3-dee4-8974ae0b3e29"
      },
      "source": [
        "y_test"
      ],
      "execution_count": 15,
      "outputs": [
        {
          "output_type": "execute_result",
          "data": {
            "text/plain": [
              "array([1, 0, 0, 1, 0, 0, 1, 0, 0, 0, 0, 0, 0, 0, 1, 1, 1, 1, 1, 0])"
            ]
          },
          "metadata": {},
          "execution_count": 15
        }
      ]
    }
  ]
}